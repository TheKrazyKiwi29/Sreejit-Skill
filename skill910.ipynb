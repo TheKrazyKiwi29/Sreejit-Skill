{
  "nbformat": 4,
  "nbformat_minor": 0,
  "metadata": {
    "colab": {
      "provenance": [],
      "authorship_tag": "ABX9TyO64uyRo/68won9AK0vXAat",
      "include_colab_link": true
    },
    "kernelspec": {
      "name": "python3",
      "display_name": "Python 3"
    },
    "language_info": {
      "name": "python"
    }
  },
  "cells": [
    {
      "cell_type": "markdown",
      "metadata": {
        "id": "view-in-github",
        "colab_type": "text"
      },
      "source": [
        "<a href=\"https://colab.research.google.com/github/TheKrazyKiwi29/Sreejit-Skill/blob/main/skill910.ipynb\" target=\"_parent\"><img src=\"https://colab.research.google.com/assets/colab-badge.svg\" alt=\"Open In Colab\"/></a>"
      ]
    },
    {
      "cell_type": "markdown",
      "source": [
        "FEATURE WRAPPING"
      ],
      "metadata": {
        "id": "0FInJuvdzzxC"
      }
    },
    {
      "cell_type": "code",
      "execution_count": null,
      "metadata": {
        "id": "XVReflQnzh7o"
      },
      "outputs": [],
      "source": [
        "\n",
        "import numpy as np\n",
        "import pandas as pd\n",
        "from sklearn.datasets import load_iris\n",
        "from sklearn.model_selection import train_test_split\n",
        "from sklearn.linear_model import LogisticRegression\n",
        "from sklearn.feature_selection import RFE\n",
        "from mlxtend.feature_selection import SequentialFeatureSelector as SFS\n",
        "\n",
        "# Load Iris Dataset\n",
        "iris = load_iris()\n",
        "X = pd.DataFrame(iris.data, columns=iris.feature_names)\n",
        "y = iris.target\n",
        "\n",
        "# Split Data\n",
        "X_train, X_test, y_train, y_test = train_test_split(X, y, test_size=0.2, random_state=42)\n",
        "\n",
        "# Initialize Logistic Regression Model\n",
        "model = LogisticRegression(max_iter=200)"
      ]
    },
    {
      "cell_type": "markdown",
      "source": [
        "FORWARD SELECTION"
      ],
      "metadata": {
        "id": "D9ikEBfAzngv"
      }
    },
    {
      "cell_type": "code",
      "source": [
        "sfs_forward = SFS(model,\n",
        "                  k_features=2,\n",
        "                  forward=True,\n",
        "                  floating=False,\n",
        "                  scoring='accuracy',\n",
        "                  cv=5)\n",
        "\n",
        "sfs_forward.fit(X_train, y_train)\n",
        "print(\"Selected Features (Forward Selection):\", list(sfs_forward.k_feature_names_))"
      ],
      "metadata": {
        "id": "JLSoPePyz-51"
      },
      "execution_count": null,
      "outputs": []
    },
    {
      "cell_type": "markdown",
      "source": [
        "BACKWARD ELIMINATION"
      ],
      "metadata": {
        "id": "O9rxh5F50Hgz"
      }
    },
    {
      "cell_type": "code",
      "source": [
        "\n",
        "sfs_backward = SFS(model,\n",
        "                   k_features=2,\n",
        "                   forward=False,\n",
        "                   floating=False,\n",
        "                   scoring='accuracy',\n",
        "                   cv=5)\n",
        "\n",
        "sfs_backward.fit(X_train, y_train)\n",
        "print(\"Selected Features (Backward Elimination):\", list(sfs_backward.k_feature_names_))"
      ],
      "metadata": {
        "id": "P5ypH6Co0Vll"
      },
      "execution_count": null,
      "outputs": []
    },
    {
      "cell_type": "markdown",
      "source": [
        "RECURSIVE FEATURE ELIMINATION"
      ],
      "metadata": {
        "id": "DsXBqbzl0aEe"
      }
    },
    {
      "cell_type": "code",
      "source": [
        "RECURSIVE FEATURE ELIMINATION\n",
        "\n",
        "\n",
        "rfe = RFE(model, n_features_to_select=2)\n",
        "rfe.fit(X_train, y_train)\n",
        "\n",
        "selected_features = X_train.columns[rfe.support_]\n",
        "print(\"Selected Features (RFE):\", list(selected_features))"
      ],
      "metadata": {
        "id": "fY23T4fm0cV8"
      },
      "execution_count": null,
      "outputs": []
    }
  ]
}