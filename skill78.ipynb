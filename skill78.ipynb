{
  "nbformat": 4,
  "nbformat_minor": 0,
  "metadata": {
    "colab": {
      "provenance": [],
      "authorship_tag": "ABX9TyOSpRn2ohHKtA6QhNLqudJA",
      "include_colab_link": true
    },
    "kernelspec": {
      "name": "python3",
      "display_name": "Python 3"
    },
    "language_info": {
      "name": "python"
    }
  },
  "cells": [
    {
      "cell_type": "markdown",
      "metadata": {
        "id": "view-in-github",
        "colab_type": "text"
      },
      "source": [
        "<a href=\"https://colab.research.google.com/github/TheKrazyKiwi29/Sreejit-Skill/blob/main/skill78.ipynb\" target=\"_parent\"><img src=\"https://colab.research.google.com/assets/colab-badge.svg\" alt=\"Open In Colab\"/></a>"
      ]
    },
    {
      "cell_type": "code",
      "execution_count": null,
      "metadata": {
        "colab": {
          "base_uri": "https://localhost:8080/"
        },
        "id": "_z378Nv8ExAG",
        "outputId": "3c9afca8-94a0-45ef-9859-431ae487b37e"
      },
      "outputs": [
        {
          "output_type": "stream",
          "name": "stdout",
          "text": [
            "Selected features using Variance Threshold: ['alcohol', 'malic_acid', 'ash', 'alcalinity_of_ash', 'magnesium', 'total_phenols', 'flavanoids', 'nonflavanoid_phenols', 'proanthocyanins', 'color_intensity', 'hue', 'od280/od315_of_diluted_wines', 'proline']\n",
            "Selected features using Chi-Square Test: ['alcalinity_of_ash', 'magnesium', 'flavanoids', 'color_intensity', 'proline']\n",
            "Selected features using Pearson's Correlation Coefficient: ['alcohol', 'malic_acid', 'ash', 'alcalinity_of_ash', 'magnesium', 'total_phenols', 'nonflavanoid_phenols', 'proanthocyanins', 'color_intensity', 'hue', 'od280/od315_of_diluted_wines', 'proline']\n"
          ]
        }
      ],
      "source": [
        "# Import necessary libraries\n",
        "import pandas as pd\n",
        "from sklearn.datasets import load_wine\n",
        "from sklearn.feature_selection import VarianceThreshold, SelectKBest, chi2\n",
        "from sklearn.preprocessing import StandardScaler\n",
        "\n",
        "# Load the wine dataset\n",
        "wine = load_wine()\n",
        "X = pd.DataFrame(wine.data, columns=wine.feature_names)\n",
        "y = wine.target\n",
        "\n",
        "# Standardize the features\n",
        "scaler = StandardScaler()\n",
        "X_scaled = scaler.fit_transform(X)\n",
        "# Initialize VarianceThreshold with a threshold value\n",
        "selector = VarianceThreshold(threshold=0.2)\n",
        "X_variance = selector.fit_transform(X_scaled)\n",
        "\n",
        "# Get the selected feature names\n",
        "selected_features_variance = X.columns[selector.get_support()]\n",
        "print(\"Selected features using Variance Threshold:\", selected_features_variance.tolist())\n",
        "# Initialize SelectKBest with chi2\n",
        "chi2_selector = SelectKBest(chi2, k=5)\n",
        "X_chi2 = chi2_selector.fit_transform(X, y)\n",
        "\n",
        "# Get the selected feature names\n",
        "selected_features_chi2 = X.columns[chi2_selector.get_support()]\n",
        "print(\"Selected features using Chi-Square Test:\", selected_features_chi2.tolist())\n",
        "import numpy as np\n",
        "\n",
        "# Calculate the correlation matrix\n",
        "corr_matrix = pd.DataFrame(X_scaled, columns=X.columns).corr().abs()\n",
        "\n",
        "# Select upper triangle of correlation matrix\n",
        "upper = corr_matrix.where(np.triu(np.ones(corr_matrix.shape), k=1).astype(bool))\n",
        "\n",
        "# Find features with correlation greater than 0.8\n",
        "to_drop = [column for column in upper.columns if any(upper[column] > 0.8)]\n",
        "\n",
        "# Drop features\n",
        "X_corr = pd.DataFrame(X_scaled, columns=X.columns).drop(columns=to_drop)\n",
        "\n",
        "print(\"Selected features using Pearson's Correlation Coefficient:\", X_corr.columns.tolist())\n",
        "# Convert numpy arrays back to DataFrames for saving\n",
        "X_variance_df = pd.DataFrame(X_variance, columns=selected_features_variance)\n",
        "X_chi2_df = pd.DataFrame(X_chi2, columns=selected_features_chi2)\n",
        "X_corr_df = pd.DataFrame(X_corr, columns=X_corr.columns)\n",
        "\n",
        "# Save to CSV\n",
        "X_variance_df.to_csv('wine_variance_filtered.csv', index=False)\n",
        "X_chi2_df.to_csv('wine_chi2_filtered.csv', index=False)\n",
        "X_corr_df.to_csv('wine_corr_filtered.csv', index=False)\n",
        "\n"
      ]
    },
    {
      "cell_type": "code",
      "source": [
        "!git add .\n",
        "!git commit -m \"Cleaned notebook and removed unnecessary commands\"\n",
        "!git push origin main\n"
      ],
      "metadata": {
        "colab": {
          "base_uri": "https://localhost:8080/"
        },
        "id": "JOX9hgkKJc2W",
        "outputId": "d4e27f9c-5d32-4551-efe2-d7a8026be6d5"
      },
      "execution_count": null,
      "outputs": [
        {
          "output_type": "stream",
          "name": "stdout",
          "text": [
            "On branch main\n",
            "nothing to commit, working tree clean\n",
            "Everything up-to-date\n"
          ]
        }
      ]
    },
    {
      "cell_type": "code",
      "source": [
        "# Remove incorrect remote if needed\n",
        "!git remote remove origin\n",
        "\n",
        "# Add the correct remote again\n",
        "!git remote add origin https://github.com/TheKrazyKiwi29/Sreejit-Skill.git\n",
        "\n",
        "# Set the correct branch (main instead of master)\n",
        "!git branch -M main\n",
        "\n",
        "# Add all changes\n",
        "!git add .\n",
        "\n",
        "# Commit the changes\n",
        "!git commit -m \"Cleaned notebook and updated feature selection results\"\n",
        "\n",
        "# Push to GitHub (use main instead of master)\n",
        "!git push -u origin main"
      ],
      "metadata": {
        "colab": {
          "base_uri": "https://localhost:8080/"
        },
        "id": "omK8BuIvJvif",
        "outputId": "fd667136-33ed-49b5-b3de-ac10f29c5a74"
      },
      "execution_count": null,
      "outputs": [
        {
          "output_type": "stream",
          "name": "stdout",
          "text": [
            "On branch main\n",
            "nothing to commit, working tree clean\n",
            "fatal: could not read Username for 'https://github.com': No such device or address\n"
          ]
        }
      ]
    },
    {
      "cell_type": "code",
      "source": [],
      "metadata": {
        "id": "5y-OiElRJeRf"
      },
      "execution_count": null,
      "outputs": []
    }
  ]
}